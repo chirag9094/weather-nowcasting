{
  "cells": [
    {
      "cell_type": "markdown",
      "metadata": {
        "colab_type": "text",
        "id": "view-in-github"
      },
      "source": [
        "<a href=\"https://colab.research.google.com/github/PradyumnaGupta/rainnet/blob/master/RainNet_Training.ipynb\" target=\"_parent\"><img src=\"https://colab.research.google.com/assets/colab-badge.svg\" alt=\"Open In Colab\"/></a>"
      ]
    },
    {
      "cell_type": "markdown",
      "metadata": {
        "id": "BzqFWjKfTk_u"
      },
      "source": [
        "# RainNet Training Notebook\n",
        "\n",
        "Author:[Pradyumna Gupta](https://github.com/PradyumnaGupta)\n",
        "\n",
        "This notebook is created and executed on Google Colaboratory with Google Drive Mounted."
      ]
    },
    {
      "cell_type": "markdown",
      "metadata": {
        "id": "cW2KClF0UNlO"
      },
      "source": [
        "* Mounting Google Drive\n",
        "\n"
      ]
    },
    {
      "cell_type": "markdown",
      "metadata": {
        "id": "DrUscM2nUQm6"
      },
      "source": [
        "* Importing libraries"
      ]
    },
    {
      "cell_type": "code",
      "execution_count": 1,
      "metadata": {
        "colab": {
          "base_uri": "https://localhost:8080/"
        },
        "id": "vVfiBtxzdlF7",
        "outputId": "4c3656d8-0046-4654-e5ac-76c39228bfc5"
      },
      "outputs": [],
      "source": [
        "import pandas as pd\n",
        "import numpy\n",
        "from sklearn.model_selection import train_test_split\n",
        "import os\n",
        "\n",
        "import matplotlib.pyplot as plt \n",
        "import imageio\n",
        "import PIL\n",
        "from PIL import ImageFile\n",
        "import cv2\n",
        "import numpy as np\n",
        "from IPython.display import display\n",
        "from tqdm import tqdm\n",
        "from imblearn.over_sampling import RandomOverSampler\n",
        "\n",
        "import torch\n",
        "import torch.nn as nn\n",
        "from torch.nn import functional as F\n",
        "# import pretrainedmodels\n",
        "import torch.optim as optim\n",
        "from sklearn.metrics import f1_score,accuracy_score,roc_auc_score\n",
        "import math\n",
        "import time\n",
        "import albumentations\n",
        "import random\n",
        "from tqdm import tqdm\n",
        "import tensorflow as tf\n",
        "\n",
        "ImageFile.LOAD_TRUNCATED_IMAGES = True\n",
        "%matplotlib inline"
      ]
    },
    {
      "cell_type": "markdown",
      "metadata": {
        "id": "Ai_0aJr1UUcO"
      },
      "source": [
        "* Defining some data preparing and preprocessing functions"
      ]
    },
    {
      "cell_type": "code",
      "execution_count": 2,
      "metadata": {
        "id": "QcUSl1wfdeOt"
      },
      "outputs": [],
      "source": [
        "def Scaler(array):\n",
        "    return np.log(array+0.01)\n",
        "\n",
        "\n",
        "def invScaler(array):\n",
        "    return np.exp(array) - 0.01\n",
        "\n",
        "\n",
        "def pad_to_shape(array, from_shape=900, to_shape=928, how=\"mirror\"):\n",
        "    # calculate how much to pad in respect with native resolution\n",
        "    padding = int( (to_shape - from_shape) / 2)\n",
        "    # for input shape as (batch, W, H, channels)\n",
        "    if how == \"zero\":\n",
        "        array_padded = np.pad(array, ((0,0),(padding,padding),(padding,padding),(0,0)), mode=\"constant\", constant_values=0)\n",
        "    elif how == \"mirror\":\n",
        "        array_padded = np.pad(array, ((0,0),(padding,padding),(padding,padding),(0,0)), mode=\"reflect\")\n",
        "    return array_padded\n",
        "\n",
        "\n",
        "def pred_to_rad(pred, from_shape=928, to_shape=900):\n",
        "    # pred shape 12,928,928\n",
        "    padding = int( (from_shape - to_shape) / 2)\n",
        "    return pred[::, padding:padding+to_shape, padding:padding+to_shape].copy()\n",
        "\n",
        "\n",
        "def data_preprocessing(X):\n",
        "    \n",
        "    # 0. Right shape for batch\n",
        "    X = np.moveaxis(X, 0, -1)\n",
        "    X = X[np.newaxis, ::, ::, ::]\n",
        "    # 1. To log scale\n",
        "    X = Scaler(X)\n",
        "    # 2. from 900x900 to 928x928\n",
        "    X = pad_to_shape(X)\n",
        "    \n",
        "    return X\n",
        "\n",
        "\n",
        "def data_postprocessing(nwcst):\n",
        "\n",
        "    # 0. Squeeze empty dimensions\n",
        "    nwcst = np.squeeze(np.array(nwcst))\n",
        "    # 1. Convert back to rainfall depth\n",
        "    nwcst = invScaler(nwcst)\n",
        "    # 2. Convert from 928x928 back to 900x900\n",
        "    nwcst = pred_to_rad(nwcst)\n",
        "    # 3. Return only positive values\n",
        "    nwcst = np.where(nwcst>0, nwcst, 0)\n",
        "    return nwcst"
      ]
    },
    {
      "cell_type": "markdown",
      "metadata": {
        "id": "gqUqGtlrUiAf"
      },
      "source": [
        "* Constructing Dataloaders"
      ]
    },
    {
      "cell_type": "code",
      "execution_count": 3,
      "metadata": {
        "id": "3slT2sUndeMp"
      },
      "outputs": [],
      "source": [
        "class Dataset(tf.keras.utils.Sequence):\n",
        "    \n",
        "    def __init__(\n",
        "            self, \n",
        "            dataset_dict,\n",
        "            image_names,\n",
        "            batch_size\n",
        "    ):\n",
        "        self.keys = image_names\n",
        "        self.dataset = dataset_dict\n",
        "        self.bs = batch_size\n",
        "\n",
        "    def get_index(self,i):\n",
        "      x = []\n",
        "      for j in range(4):\n",
        "        try:\n",
        "          arr = np.array(self.dataset.get(self.keys[i+j]))\n",
        "        except:\n",
        "          print(i,j)\n",
        "        x.append(arr)\n",
        "      \n",
        "      x = data_preprocessing(np.stack(x,0))\n",
        "      # x = np.transpose(np.squeeze(x),(2,0,1)) \n",
        "      x = np.squeeze(x)\n",
        "      y = np.squeeze(data_preprocessing(np.array(self.dataset[self.keys[i+3]])[np.newaxis,:,:]))\n",
        "\n",
        "      return x.astype('float32'),y.astype('float32')\n",
        "    \n",
        "    def __getitem__(self, index):\n",
        "        \n",
        "      X = []\n",
        "      Y = []\n",
        "\n",
        "      for i in range(index*self.bs,(index+1)*self.bs):\n",
        "        x,y = self.get_index(i)\n",
        "        X.append(x[np.newaxis,:])\n",
        "        Y.append(y[np.newaxis,:])\n",
        "\n",
        "      return X,Y\n",
        "        \n",
        "    def __len__(self):\n",
        "      return (len(self.keys) - 4)//self.bs"
      ]
    },
    {
      "cell_type": "markdown",
      "metadata": {
        "id": "RvyHVgK3UprR"
      },
      "source": [
        "* Loading the dataset dictionary.\n",
        "\n",
        "The dataset consists of a large dictionary where the keys are the image names and the value is the actual image in the form of a numpy array.The dataset can be downloaded from [here](https://drive.google.com/file/d/1sZI4TbFkgJcpkZDBfbuWR_JBZSNhKow4/view?usp=sharing)."
      ]
    },
    {
      "cell_type": "code",
      "execution_count": 4,
      "metadata": {
        "id": "HBMTBcp5deHx"
      },
      "outputs": [],
      "source": [
        "import h5py\n",
        "local_file_path = r'D:\\rain_net\\RYDL.hdf5'\n",
        "with h5py.File(local_file_path, 'r') as dataset_dict:\n",
        "    pass"
      ]
    },
    {
      "cell_type": "markdown",
      "metadata": {
        "id": "DMvLHuAAVqEk"
      },
      "source": [
        "* Loading the image names.\n",
        "\n",
        "The image names are present in the keys txt file which can be downloaded from [here](https://drive.google.com/file/d/1DvVUyrUvL4P8TRr_y_r5NrOxlRjwgWQr/view?usp=sharing). \n",
        "\n",
        "The data from the year 2012-2016 will be used for training purposes and the data from the year 2017 will be used for validation purposes."
      ]
    },
    {
      "cell_type": "code",
      "execution_count": 5,
      "metadata": {
        "colab": {
          "base_uri": "https://localhost:8080/"
        },
        "id": "OEmMAg5xdeFW",
        "outputId": "acd7f88f-b13f-4557-8d2e-a9c66a0cd559"
      },
      "outputs": [
        {
          "name": "stderr",
          "output_type": "stream",
          "text": [
            "100%|██████████| 221211/221211 [00:00<00:00, 5253531.41it/s]\n",
            "100%|██████████| 221211/221211 [00:00<00:00, 4062855.49it/s]\n"
          ]
        }
      ],
      "source": [
        "import ast\n",
        "from tqdm import tqdm\n",
        "\n",
        "file_path = r'D:\\rain_net\\key_file.txt'\n",
        "\n",
        "try:\n",
        "    with open(file_path, 'r') as f:\n",
        "        image_names = f.readlines()\n",
        "        #print(image_names[1])\n",
        "except SyntaxError as e:\n",
        "    print(f\"Error in file content: {e}\")\n",
        "    image_names = []\n",
        "\n",
        "image_names = [name for name in image_names if name[:4] > '2012']\n",
        "\n",
        "train_images = [name for name in tqdm(image_names) if \"2017\" not in name]\n",
        "val_images = [name for name in tqdm(image_names) if name[0:4] == \"2017\"]\n",
        "\n",
        "#print(len(image_names))"
      ]
    },
    {
      "cell_type": "markdown",
      "metadata": {
        "id": "yrYW92QDWOll"
      },
      "source": [
        "* Instantiating the dataloaders."
      ]
    },
    {
      "cell_type": "code",
      "execution_count": 6,
      "metadata": {
        "id": "FvIs5J1Mknig"
      },
      "outputs": [],
      "source": [
        "train_dataset = Dataset(\n",
        "    dataset_dict=dataset_dict,\n",
        "    image_names=train_images,\n",
        "    batch_size=1\n",
        ")\n",
        "\n",
        "valid_dataset = Dataset(\n",
        "    dataset_dict=dataset_dict,\n",
        "    image_names=val_images,\n",
        "    batch_size=1\n",
        ")"
      ]
    },
    {
      "cell_type": "markdown",
      "metadata": {
        "id": "F8dGA3a-WUPz"
      },
      "source": [
        "* Constructing the RainNet model."
      ]
    },
    {
      "cell_type": "code",
      "execution_count": 7,
      "metadata": {
        "id": "mA8ePVeaknfq"
      },
      "outputs": [],
      "source": [
        "from tensorflow.keras.models import *\n",
        "from tensorflow.keras.layers import *\n",
        "\n",
        "def rainnet(input_shape=(928, 928, 4), mode=\"regression\"):\n",
        "\n",
        "    \"\"\"\n",
        "    The function for building the RainNet (v1.0) model from scratch\n",
        "    using Keras functional API.\n",
        "    Parameters:\n",
        "    input size: tuple(W x H x C), where W (width) and H (height)\n",
        "    describe spatial dimensions of input data (e.g., 928x928 for RY data);\n",
        "    and C (channels) describes temporal (depth) dimension of \n",
        "    input data (e.g., 4 means accounting four latest radar scans at time\n",
        "    t-15, t-10, t-5 minutes, and t)\n",
        "    \n",
        "    mode: \"regression\" (default) or \"segmentation\". \n",
        "    For \"regression\" mode the last activation function is linear, \n",
        "    while for \"segmentation\" it is sigmoid.\n",
        "    To train RainNet to predict continuous precipitation intensities use \n",
        "    \"regression\" mode. \n",
        "    RainNet could be trained to predict the exceedance of specific intensity \n",
        "    thresholds. For that purpose, use \"segmentation\" mode.\n",
        "    \"\"\"\n",
        "\n",
        "    inputs = Input(input_shape)\n",
        "\n",
        "    conv1f = Conv2D(64, 3, padding='same', kernel_initializer='he_normal')(inputs)\n",
        "    conv1f = Activation(\"relu\")(conv1f)\n",
        "    conv1s = Conv2D(64, 3, padding='same', kernel_initializer='he_normal')(conv1f)\n",
        "    conv1s = Activation(\"relu\")(conv1s)\n",
        "    pool1 = MaxPooling2D(pool_size=(2, 2))(conv1s)\n",
        "\n",
        "    conv2f = Conv2D(128, 3, padding='same', kernel_initializer='he_normal')(pool1)\n",
        "    conv2f = Activation(\"relu\")(conv2f)\n",
        "    conv2s = Conv2D(128, 3, padding='same', kernel_initializer='he_normal')(conv2f)\n",
        "    conv2s = Activation(\"relu\")(conv2s)\n",
        "    pool2 = MaxPooling2D(pool_size=(2, 2))(conv2s)\n",
        "\n",
        "    conv3f = Conv2D(256, 3, padding='same', kernel_initializer='he_normal')(pool2)\n",
        "    conv3f = Activation(\"relu\")(conv3f)\n",
        "    conv3s = Conv2D(256, 3, padding='same', kernel_initializer='he_normal')(conv3f)\n",
        "    conv3s = Activation(\"relu\")(conv3s)\n",
        "    pool3 = MaxPooling2D(pool_size=(2, 2))(conv3s)\n",
        "\n",
        "    conv4f = Conv2D(512, 3, padding='same', kernel_initializer='he_normal')(pool3)\n",
        "    conv4f = Activation(\"relu\")(conv4f)\n",
        "    conv4s = Conv2D(512, 3, padding='same', kernel_initializer='he_normal')(conv4f)\n",
        "    conv4s = Activation(\"relu\")(conv4s)\n",
        "    drop4 = Dropout(0.5)(conv4s)\n",
        "    pool4 = MaxPooling2D(pool_size=(2, 2))(drop4)\n",
        "\n",
        "    conv5f = Conv2D(1024, 3, padding='same', kernel_initializer='he_normal')(pool4)\n",
        "    conv5f = Activation(\"relu\")(conv5f)\n",
        "    conv5s = Conv2D(1024, 3, padding='same', kernel_initializer='he_normal')(conv5f)\n",
        "    conv5s = Activation(\"relu\")(conv5s)\n",
        "    drop5 = Dropout(0.5)(conv5s)\n",
        "\n",
        "    up6 = concatenate([UpSampling2D(size=(2, 2))(drop5), conv4s], axis=3)\n",
        "    conv6 = Conv2D(512, 3, padding='same', kernel_initializer='he_normal')(up6)\n",
        "    conv6 = Activation(\"relu\")(conv6)\n",
        "    conv6 = Conv2D(512, 3, padding='same', kernel_initializer='he_normal')(conv6)\n",
        "    conv6 = Activation(\"relu\")(conv6)\n",
        "\n",
        "    up7 = concatenate([UpSampling2D(size=(2, 2))(conv6), conv3s], axis=3)\n",
        "    conv7 = Conv2D(256, 3, padding='same', kernel_initializer='he_normal')(up7)\n",
        "    conv7 = Activation(\"relu\")(conv7)\n",
        "    conv7 = Conv2D(256, 3, padding='same', kernel_initializer='he_normal')(conv7)\n",
        "    conv7 = Activation(\"relu\")(conv7)\n",
        "\n",
        "    up8 = concatenate([UpSampling2D(size=(2, 2))(conv7), conv2s], axis=3)\n",
        "    conv8 = Conv2D(128, 3, padding='same', kernel_initializer='he_normal')(up8)\n",
        "    conv8 = Activation(\"relu\")(conv8)\n",
        "    conv8 = Conv2D(128, 3, padding='same', kernel_initializer='he_normal')(conv8)\n",
        "    conv8 = Activation(\"relu\")(conv8)\n",
        "\n",
        "    up9 = concatenate([UpSampling2D(size=(2, 2))(conv8), conv1s], axis=3)\n",
        "    conv9 = Conv2D(64, 3, padding='same', kernel_initializer='he_normal')(up9)\n",
        "    conv9 = Activation(\"relu\")(conv9)\n",
        "    conv9 = Conv2D(64, 3, padding='same', kernel_initializer='he_normal')(conv9)\n",
        "    conv9 = Activation(\"relu\")(conv9)\n",
        "    conv9 = Conv2D(2, 3, activation='relu', padding='same', kernel_initializer='he_normal')(conv9)\n",
        "    \n",
        "    if mode == \"regression\":\n",
        "        outputs = Conv2D(1, 1, activation='linear')(conv9)\n",
        "    elif mode == \"segmentation\":\n",
        "        outputs = Conv2D(1, 1, activation='sigmoid')(conv9)\n",
        "\n",
        "    model = Model(inputs=inputs, outputs=outputs)\n",
        "\n",
        "    return model"
      ]
    },
    {
      "cell_type": "markdown",
      "metadata": {
        "id": "4Rd7DR-tWcKi"
      },
      "source": [
        "* Instantiating and compiling the model with Adam optimizer and Log_Cosh loss function.\n"
      ]
    },
    {
      "cell_type": "code",
      "execution_count": 8,
      "metadata": {
        "id": "chgdwXYGbx1i"
      },
      "outputs": [],
      "source": [
        "model = rainnet()"
      ]
    },
    {
      "cell_type": "code",
      "execution_count": 9,
      "metadata": {},
      "outputs": [
        {
          "name": "stderr",
          "output_type": "stream",
          "text": [
            "d:\\anaconda3\\lib\\site-packages\\keras\\optimizers\\optimizer_v2\\adam.py:114: UserWarning: The `lr` argument is deprecated, use `learning_rate` instead.\n",
            "  super().__init__(name, **kwargs)\n"
          ]
        }
      ],
      "source": [
        "model.compile(optimizer=tf.keras.optimizers.Adam(lr=3e-4),loss='log_cosh')"
      ]
    },
    {
      "cell_type": "code",
      "execution_count": 10,
      "metadata": {},
      "outputs": [
        {
          "name": "stdout",
          "output_type": "stream",
          "text": [
            "Model: \"model\"\n",
            "__________________________________________________________________________________________________\n",
            " Layer (type)                   Output Shape         Param #     Connected to                     \n",
            "==================================================================================================\n",
            " input_1 (InputLayer)           [(None, 928, 928, 4  0           []                               \n",
            "                                )]                                                                \n",
            "                                                                                                  \n",
            " conv2d (Conv2D)                (None, 928, 928, 64  2368        ['input_1[0][0]']                \n",
            "                                )                                                                 \n",
            "                                                                                                  \n",
            " activation (Activation)        (None, 928, 928, 64  0           ['conv2d[0][0]']                 \n",
            "                                )                                                                 \n",
            "                                                                                                  \n",
            " conv2d_1 (Conv2D)              (None, 928, 928, 64  36928       ['activation[0][0]']             \n",
            "                                )                                                                 \n",
            "                                                                                                  \n",
            " activation_1 (Activation)      (None, 928, 928, 64  0           ['conv2d_1[0][0]']               \n",
            "                                )                                                                 \n",
            "                                                                                                  \n",
            " max_pooling2d (MaxPooling2D)   (None, 464, 464, 64  0           ['activation_1[0][0]']           \n",
            "                                )                                                                 \n",
            "                                                                                                  \n",
            " conv2d_2 (Conv2D)              (None, 464, 464, 12  73856       ['max_pooling2d[0][0]']          \n",
            "                                8)                                                                \n",
            "                                                                                                  \n",
            " activation_2 (Activation)      (None, 464, 464, 12  0           ['conv2d_2[0][0]']               \n",
            "                                8)                                                                \n",
            "                                                                                                  \n",
            " conv2d_3 (Conv2D)              (None, 464, 464, 12  147584      ['activation_2[0][0]']           \n",
            "                                8)                                                                \n",
            "                                                                                                  \n",
            " activation_3 (Activation)      (None, 464, 464, 12  0           ['conv2d_3[0][0]']               \n",
            "                                8)                                                                \n",
            "                                                                                                  \n",
            " max_pooling2d_1 (MaxPooling2D)  (None, 232, 232, 12  0          ['activation_3[0][0]']           \n",
            "                                8)                                                                \n",
            "                                                                                                  \n",
            " conv2d_4 (Conv2D)              (None, 232, 232, 25  295168      ['max_pooling2d_1[0][0]']        \n",
            "                                6)                                                                \n",
            "                                                                                                  \n",
            " activation_4 (Activation)      (None, 232, 232, 25  0           ['conv2d_4[0][0]']               \n",
            "                                6)                                                                \n",
            "                                                                                                  \n",
            " conv2d_5 (Conv2D)              (None, 232, 232, 25  590080      ['activation_4[0][0]']           \n",
            "                                6)                                                                \n",
            "                                                                                                  \n",
            " activation_5 (Activation)      (None, 232, 232, 25  0           ['conv2d_5[0][0]']               \n",
            "                                6)                                                                \n",
            "                                                                                                  \n",
            " max_pooling2d_2 (MaxPooling2D)  (None, 116, 116, 25  0          ['activation_5[0][0]']           \n",
            "                                6)                                                                \n",
            "                                                                                                  \n",
            " conv2d_6 (Conv2D)              (None, 116, 116, 51  1180160     ['max_pooling2d_2[0][0]']        \n",
            "                                2)                                                                \n",
            "                                                                                                  \n",
            " activation_6 (Activation)      (None, 116, 116, 51  0           ['conv2d_6[0][0]']               \n",
            "                                2)                                                                \n",
            "                                                                                                  \n",
            " conv2d_7 (Conv2D)              (None, 116, 116, 51  2359808     ['activation_6[0][0]']           \n",
            "                                2)                                                                \n",
            "                                                                                                  \n",
            " activation_7 (Activation)      (None, 116, 116, 51  0           ['conv2d_7[0][0]']               \n",
            "                                2)                                                                \n",
            "                                                                                                  \n",
            " dropout (Dropout)              (None, 116, 116, 51  0           ['activation_7[0][0]']           \n",
            "                                2)                                                                \n",
            "                                                                                                  \n",
            " max_pooling2d_3 (MaxPooling2D)  (None, 58, 58, 512)  0          ['dropout[0][0]']                \n",
            "                                                                                                  \n",
            " conv2d_8 (Conv2D)              (None, 58, 58, 1024  4719616     ['max_pooling2d_3[0][0]']        \n",
            "                                )                                                                 \n",
            "                                                                                                  \n",
            " activation_8 (Activation)      (None, 58, 58, 1024  0           ['conv2d_8[0][0]']               \n",
            "                                )                                                                 \n",
            "                                                                                                  \n",
            " conv2d_9 (Conv2D)              (None, 58, 58, 1024  9438208     ['activation_8[0][0]']           \n",
            "                                )                                                                 \n",
            "                                                                                                  \n",
            " activation_9 (Activation)      (None, 58, 58, 1024  0           ['conv2d_9[0][0]']               \n",
            "                                )                                                                 \n",
            "                                                                                                  \n",
            " dropout_1 (Dropout)            (None, 58, 58, 1024  0           ['activation_9[0][0]']           \n",
            "                                )                                                                 \n",
            "                                                                                                  \n",
            " up_sampling2d (UpSampling2D)   (None, 116, 116, 10  0           ['dropout_1[0][0]']              \n",
            "                                24)                                                               \n",
            "                                                                                                  \n",
            " concatenate (Concatenate)      (None, 116, 116, 15  0           ['up_sampling2d[0][0]',          \n",
            "                                36)                               'activation_7[0][0]']           \n",
            "                                                                                                  \n",
            " conv2d_10 (Conv2D)             (None, 116, 116, 51  7078400     ['concatenate[0][0]']            \n",
            "                                2)                                                                \n",
            "                                                                                                  \n",
            " activation_10 (Activation)     (None, 116, 116, 51  0           ['conv2d_10[0][0]']              \n",
            "                                2)                                                                \n",
            "                                                                                                  \n",
            " conv2d_11 (Conv2D)             (None, 116, 116, 51  2359808     ['activation_10[0][0]']          \n",
            "                                2)                                                                \n",
            "                                                                                                  \n",
            " activation_11 (Activation)     (None, 116, 116, 51  0           ['conv2d_11[0][0]']              \n",
            "                                2)                                                                \n",
            "                                                                                                  \n",
            " up_sampling2d_1 (UpSampling2D)  (None, 232, 232, 51  0          ['activation_11[0][0]']          \n",
            "                                2)                                                                \n",
            "                                                                                                  \n",
            " concatenate_1 (Concatenate)    (None, 232, 232, 76  0           ['up_sampling2d_1[0][0]',        \n",
            "                                8)                                'activation_5[0][0]']           \n",
            "                                                                                                  \n",
            " conv2d_12 (Conv2D)             (None, 232, 232, 25  1769728     ['concatenate_1[0][0]']          \n",
            "                                6)                                                                \n",
            "                                                                                                  \n",
            " activation_12 (Activation)     (None, 232, 232, 25  0           ['conv2d_12[0][0]']              \n",
            "                                6)                                                                \n",
            "                                                                                                  \n",
            " conv2d_13 (Conv2D)             (None, 232, 232, 25  590080      ['activation_12[0][0]']          \n",
            "                                6)                                                                \n",
            "                                                                                                  \n",
            " activation_13 (Activation)     (None, 232, 232, 25  0           ['conv2d_13[0][0]']              \n",
            "                                6)                                                                \n",
            "                                                                                                  \n",
            " up_sampling2d_2 (UpSampling2D)  (None, 464, 464, 25  0          ['activation_13[0][0]']          \n",
            "                                6)                                                                \n",
            "                                                                                                  \n",
            " concatenate_2 (Concatenate)    (None, 464, 464, 38  0           ['up_sampling2d_2[0][0]',        \n",
            "                                4)                                'activation_3[0][0]']           \n",
            "                                                                                                  \n",
            " conv2d_14 (Conv2D)             (None, 464, 464, 12  442496      ['concatenate_2[0][0]']          \n",
            "                                8)                                                                \n",
            "                                                                                                  \n",
            " activation_14 (Activation)     (None, 464, 464, 12  0           ['conv2d_14[0][0]']              \n",
            "                                8)                                                                \n",
            "                                                                                                  \n",
            " conv2d_15 (Conv2D)             (None, 464, 464, 12  147584      ['activation_14[0][0]']          \n",
            "                                8)                                                                \n",
            "                                                                                                  \n",
            " activation_15 (Activation)     (None, 464, 464, 12  0           ['conv2d_15[0][0]']              \n",
            "                                8)                                                                \n",
            "                                                                                                  \n",
            " up_sampling2d_3 (UpSampling2D)  (None, 928, 928, 12  0          ['activation_15[0][0]']          \n",
            "                                8)                                                                \n",
            "                                                                                                  \n",
            " concatenate_3 (Concatenate)    (None, 928, 928, 19  0           ['up_sampling2d_3[0][0]',        \n",
            "                                2)                                'activation_1[0][0]']           \n",
            "                                                                                                  \n",
            " conv2d_16 (Conv2D)             (None, 928, 928, 64  110656      ['concatenate_3[0][0]']          \n",
            "                                )                                                                 \n",
            "                                                                                                  \n",
            " activation_16 (Activation)     (None, 928, 928, 64  0           ['conv2d_16[0][0]']              \n",
            "                                )                                                                 \n",
            "                                                                                                  \n",
            " conv2d_17 (Conv2D)             (None, 928, 928, 64  36928       ['activation_16[0][0]']          \n",
            "                                )                                                                 \n",
            "                                                                                                  \n",
            " activation_17 (Activation)     (None, 928, 928, 64  0           ['conv2d_17[0][0]']              \n",
            "                                )                                                                 \n",
            "                                                                                                  \n",
            " conv2d_18 (Conv2D)             (None, 928, 928, 2)  1154        ['activation_17[0][0]']          \n",
            "                                                                                                  \n",
            " conv2d_19 (Conv2D)             (None, 928, 928, 1)  3           ['conv2d_18[0][0]']              \n",
            "                                                                                                  \n",
            "==================================================================================================\n",
            "Total params: 31,380,613\n",
            "Trainable params: 31,380,613\n",
            "Non-trainable params: 0\n",
            "__________________________________________________________________________________________________\n"
          ]
        }
      ],
      "source": [
        "model.summary()"
      ]
    },
    {
      "cell_type": "markdown",
      "metadata": {
        "id": "Qu0tg8XbWqao"
      },
      "source": [
        "* Start Training"
      ]
    },
    {
      "cell_type": "code",
      "execution_count": 11,
      "metadata": {
        "id": "F6Xe3fDrwRYs"
      },
      "outputs": [
        {
          "name": "stdout",
          "output_type": "stream",
          "text": [
            "0 0\n"
          ]
        },
        {
          "ename": "UnboundLocalError",
          "evalue": "local variable 'arr' referenced before assignment",
          "output_type": "error",
          "traceback": [
            "\u001b[1;31m---------------------------------------------------------------------------\u001b[0m",
            "\u001b[1;31mUnboundLocalError\u001b[0m                         Traceback (most recent call last)",
            "\u001b[1;32m~\\AppData\\Local\\Temp\\ipykernel_24392\\3147269470.py\u001b[0m in \u001b[0;36m<module>\u001b[1;34m\u001b[0m\n\u001b[1;32m----> 1\u001b[1;33m \u001b[0mmodel\u001b[0m\u001b[1;33m.\u001b[0m\u001b[0mfit\u001b[0m\u001b[1;33m(\u001b[0m\u001b[0mx\u001b[0m\u001b[1;33m=\u001b[0m\u001b[0mtrain_dataset\u001b[0m\u001b[1;33m,\u001b[0m\u001b[0mvalidation_data\u001b[0m\u001b[1;33m=\u001b[0m\u001b[0mvalid_dataset\u001b[0m\u001b[1;33m,\u001b[0m\u001b[0mepochs\u001b[0m\u001b[1;33m=\u001b[0m\u001b[1;36m10\u001b[0m\u001b[1;33m)\u001b[0m\u001b[1;33m\u001b[0m\u001b[1;33m\u001b[0m\u001b[0m\n\u001b[0m",
            "\u001b[1;32md:\\anaconda3\\lib\\site-packages\\keras\\utils\\traceback_utils.py\u001b[0m in \u001b[0;36merror_handler\u001b[1;34m(*args, **kwargs)\u001b[0m\n\u001b[0;32m     68\u001b[0m             \u001b[1;31m# To get the full stack trace, call:\u001b[0m\u001b[1;33m\u001b[0m\u001b[1;33m\u001b[0m\u001b[0m\n\u001b[0;32m     69\u001b[0m             \u001b[1;31m# `tf.debugging.disable_traceback_filtering()`\u001b[0m\u001b[1;33m\u001b[0m\u001b[1;33m\u001b[0m\u001b[0m\n\u001b[1;32m---> 70\u001b[1;33m             \u001b[1;32mraise\u001b[0m \u001b[0me\u001b[0m\u001b[1;33m.\u001b[0m\u001b[0mwith_traceback\u001b[0m\u001b[1;33m(\u001b[0m\u001b[0mfiltered_tb\u001b[0m\u001b[1;33m)\u001b[0m \u001b[1;32mfrom\u001b[0m \u001b[1;32mNone\u001b[0m\u001b[1;33m\u001b[0m\u001b[1;33m\u001b[0m\u001b[0m\n\u001b[0m\u001b[0;32m     71\u001b[0m         \u001b[1;32mfinally\u001b[0m\u001b[1;33m:\u001b[0m\u001b[1;33m\u001b[0m\u001b[1;33m\u001b[0m\u001b[0m\n\u001b[0;32m     72\u001b[0m             \u001b[1;32mdel\u001b[0m \u001b[0mfiltered_tb\u001b[0m\u001b[1;33m\u001b[0m\u001b[1;33m\u001b[0m\u001b[0m\n",
            "\u001b[1;32m~\\AppData\\Local\\Temp\\ipykernel_24392\\2761541116.py\u001b[0m in \u001b[0;36m__getitem__\u001b[1;34m(self, index)\u001b[0m\n\u001b[0;32m     33\u001b[0m \u001b[1;33m\u001b[0m\u001b[0m\n\u001b[0;32m     34\u001b[0m       \u001b[1;32mfor\u001b[0m \u001b[0mi\u001b[0m \u001b[1;32min\u001b[0m \u001b[0mrange\u001b[0m\u001b[1;33m(\u001b[0m\u001b[0mindex\u001b[0m\u001b[1;33m*\u001b[0m\u001b[0mself\u001b[0m\u001b[1;33m.\u001b[0m\u001b[0mbs\u001b[0m\u001b[1;33m,\u001b[0m\u001b[1;33m(\u001b[0m\u001b[0mindex\u001b[0m\u001b[1;33m+\u001b[0m\u001b[1;36m1\u001b[0m\u001b[1;33m)\u001b[0m\u001b[1;33m*\u001b[0m\u001b[0mself\u001b[0m\u001b[1;33m.\u001b[0m\u001b[0mbs\u001b[0m\u001b[1;33m)\u001b[0m\u001b[1;33m:\u001b[0m\u001b[1;33m\u001b[0m\u001b[1;33m\u001b[0m\u001b[0m\n\u001b[1;32m---> 35\u001b[1;33m         \u001b[0mx\u001b[0m\u001b[1;33m,\u001b[0m\u001b[0my\u001b[0m \u001b[1;33m=\u001b[0m \u001b[0mself\u001b[0m\u001b[1;33m.\u001b[0m\u001b[0mget_index\u001b[0m\u001b[1;33m(\u001b[0m\u001b[0mi\u001b[0m\u001b[1;33m)\u001b[0m\u001b[1;33m\u001b[0m\u001b[1;33m\u001b[0m\u001b[0m\n\u001b[0m\u001b[0;32m     36\u001b[0m         \u001b[0mX\u001b[0m\u001b[1;33m.\u001b[0m\u001b[0mappend\u001b[0m\u001b[1;33m(\u001b[0m\u001b[0mx\u001b[0m\u001b[1;33m[\u001b[0m\u001b[0mnp\u001b[0m\u001b[1;33m.\u001b[0m\u001b[0mnewaxis\u001b[0m\u001b[1;33m,\u001b[0m\u001b[1;33m:\u001b[0m\u001b[1;33m]\u001b[0m\u001b[1;33m)\u001b[0m\u001b[1;33m\u001b[0m\u001b[1;33m\u001b[0m\u001b[0m\n\u001b[0;32m     37\u001b[0m         \u001b[0mY\u001b[0m\u001b[1;33m.\u001b[0m\u001b[0mappend\u001b[0m\u001b[1;33m(\u001b[0m\u001b[0my\u001b[0m\u001b[1;33m[\u001b[0m\u001b[0mnp\u001b[0m\u001b[1;33m.\u001b[0m\u001b[0mnewaxis\u001b[0m\u001b[1;33m,\u001b[0m\u001b[1;33m:\u001b[0m\u001b[1;33m]\u001b[0m\u001b[1;33m)\u001b[0m\u001b[1;33m\u001b[0m\u001b[1;33m\u001b[0m\u001b[0m\n",
            "\u001b[1;32m~\\AppData\\Local\\Temp\\ipykernel_24392\\2761541116.py\u001b[0m in \u001b[0;36mget_index\u001b[1;34m(self, i)\u001b[0m\n\u001b[0;32m     18\u001b[0m         \u001b[1;32mexcept\u001b[0m\u001b[1;33m:\u001b[0m\u001b[1;33m\u001b[0m\u001b[1;33m\u001b[0m\u001b[0m\n\u001b[0;32m     19\u001b[0m           \u001b[0mprint\u001b[0m\u001b[1;33m(\u001b[0m\u001b[0mi\u001b[0m\u001b[1;33m,\u001b[0m\u001b[0mj\u001b[0m\u001b[1;33m)\u001b[0m\u001b[1;33m\u001b[0m\u001b[1;33m\u001b[0m\u001b[0m\n\u001b[1;32m---> 20\u001b[1;33m         \u001b[0mx\u001b[0m\u001b[1;33m.\u001b[0m\u001b[0mappend\u001b[0m\u001b[1;33m(\u001b[0m\u001b[0marr\u001b[0m\u001b[1;33m)\u001b[0m\u001b[1;33m\u001b[0m\u001b[1;33m\u001b[0m\u001b[0m\n\u001b[0m\u001b[0;32m     21\u001b[0m \u001b[1;33m\u001b[0m\u001b[0m\n\u001b[0;32m     22\u001b[0m       \u001b[0mx\u001b[0m \u001b[1;33m=\u001b[0m \u001b[0mdata_preprocessing\u001b[0m\u001b[1;33m(\u001b[0m\u001b[0mnp\u001b[0m\u001b[1;33m.\u001b[0m\u001b[0mstack\u001b[0m\u001b[1;33m(\u001b[0m\u001b[0mx\u001b[0m\u001b[1;33m,\u001b[0m\u001b[1;36m0\u001b[0m\u001b[1;33m)\u001b[0m\u001b[1;33m)\u001b[0m\u001b[1;33m\u001b[0m\u001b[1;33m\u001b[0m\u001b[0m\n",
            "\u001b[1;31mUnboundLocalError\u001b[0m: local variable 'arr' referenced before assignment"
          ]
        }
      ],
      "source": [
        "model.fit(x=train_dataset,validation_data=valid_dataset,epochs=10)"
      ]
    },
    {
      "cell_type": "code",
      "execution_count": null,
      "metadata": {
        "id": "rYAip10WIBcd"
      },
      "outputs": [],
      "source": []
    }
  ],
  "metadata": {
    "accelerator": "GPU",
    "colab": {
      "authorship_tag": "ABX9TyNnwAO9pjnf37kFVS44Grxh",
      "collapsed_sections": [],
      "include_colab_link": true,
      "name": "RainNet_Training.ipynb",
      "provenance": []
    },
    "kernelspec": {
      "display_name": "Python 3",
      "name": "python3"
    },
    "language_info": {
      "codemirror_mode": {
        "name": "ipython",
        "version": 3
      },
      "file_extension": ".py",
      "mimetype": "text/x-python",
      "name": "python",
      "nbconvert_exporter": "python",
      "pygments_lexer": "ipython3",
      "version": "3.9.13"
    }
  },
  "nbformat": 4,
  "nbformat_minor": 0
}
